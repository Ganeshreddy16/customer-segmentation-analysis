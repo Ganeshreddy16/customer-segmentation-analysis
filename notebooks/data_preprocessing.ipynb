{
 "cells": [
  {
   "cell_type": "code",
   "execution_count": 1,
   "id": "4695f792-e018-44ed-9f1c-667728e646ba",
   "metadata": {},
   "outputs": [],
   "source": [
    "import pandas as pd\n",
    "import numpy as np\n",
    "import matplotlib.pyplot as plt\n",
    "import seaborn as sns\n",
    "from datetime import datetime\n",
    "from sklearn.preprocessing import StandardScaler\n",
    "import os\n",
    "\n",
    "# For clean plots in Jupyter\n",
    "%matplotlib inline\n",
    "\n",
    "# Set random seed\n",
    "np.random.seed(42)\n"
   ]
  },
  {
   "cell_type": "code",
   "execution_count": 33,
   "id": "1d49035f-d078-4301-bfa8-3a714d229599",
   "metadata": {},
   "outputs": [
    {
     "name": "stdout",
     "output_type": "stream",
     "text": [
      "Dataset shape: (541909, 8)\n"
     ]
    },
    {
     "data": {
      "text/html": [
       "<div>\n",
       "<style scoped>\n",
       "    .dataframe tbody tr th:only-of-type {\n",
       "        vertical-align: middle;\n",
       "    }\n",
       "\n",
       "    .dataframe tbody tr th {\n",
       "        vertical-align: top;\n",
       "    }\n",
       "\n",
       "    .dataframe thead th {\n",
       "        text-align: right;\n",
       "    }\n",
       "</style>\n",
       "<table border=\"1\" class=\"dataframe\">\n",
       "  <thead>\n",
       "    <tr style=\"text-align: right;\">\n",
       "      <th></th>\n",
       "      <th>InvoiceNo</th>\n",
       "      <th>StockCode</th>\n",
       "      <th>Description</th>\n",
       "      <th>Quantity</th>\n",
       "      <th>InvoiceDate</th>\n",
       "      <th>UnitPrice</th>\n",
       "      <th>CustomerID</th>\n",
       "      <th>Country</th>\n",
       "    </tr>\n",
       "  </thead>\n",
       "  <tbody>\n",
       "    <tr>\n",
       "      <th>0</th>\n",
       "      <td>536365</td>\n",
       "      <td>85123A</td>\n",
       "      <td>WHITE HANGING HEART T-LIGHT HOLDER</td>\n",
       "      <td>6</td>\n",
       "      <td>2010-12-01 08:26:00</td>\n",
       "      <td>2.55</td>\n",
       "      <td>17850.0</td>\n",
       "      <td>United Kingdom</td>\n",
       "    </tr>\n",
       "    <tr>\n",
       "      <th>1</th>\n",
       "      <td>536365</td>\n",
       "      <td>71053</td>\n",
       "      <td>WHITE METAL LANTERN</td>\n",
       "      <td>6</td>\n",
       "      <td>2010-12-01 08:26:00</td>\n",
       "      <td>3.39</td>\n",
       "      <td>17850.0</td>\n",
       "      <td>United Kingdom</td>\n",
       "    </tr>\n",
       "    <tr>\n",
       "      <th>2</th>\n",
       "      <td>536365</td>\n",
       "      <td>84406B</td>\n",
       "      <td>CREAM CUPID HEARTS COAT HANGER</td>\n",
       "      <td>8</td>\n",
       "      <td>2010-12-01 08:26:00</td>\n",
       "      <td>2.75</td>\n",
       "      <td>17850.0</td>\n",
       "      <td>United Kingdom</td>\n",
       "    </tr>\n",
       "    <tr>\n",
       "      <th>3</th>\n",
       "      <td>536365</td>\n",
       "      <td>84029G</td>\n",
       "      <td>KNITTED UNION FLAG HOT WATER BOTTLE</td>\n",
       "      <td>6</td>\n",
       "      <td>2010-12-01 08:26:00</td>\n",
       "      <td>3.39</td>\n",
       "      <td>17850.0</td>\n",
       "      <td>United Kingdom</td>\n",
       "    </tr>\n",
       "    <tr>\n",
       "      <th>4</th>\n",
       "      <td>536365</td>\n",
       "      <td>84029E</td>\n",
       "      <td>RED WOOLLY HOTTIE WHITE HEART.</td>\n",
       "      <td>6</td>\n",
       "      <td>2010-12-01 08:26:00</td>\n",
       "      <td>3.39</td>\n",
       "      <td>17850.0</td>\n",
       "      <td>United Kingdom</td>\n",
       "    </tr>\n",
       "  </tbody>\n",
       "</table>\n",
       "</div>"
      ],
      "text/plain": [
       "  InvoiceNo StockCode                          Description  Quantity  \\\n",
       "0    536365    85123A   WHITE HANGING HEART T-LIGHT HOLDER         6   \n",
       "1    536365     71053                  WHITE METAL LANTERN         6   \n",
       "2    536365    84406B       CREAM CUPID HEARTS COAT HANGER         8   \n",
       "3    536365    84029G  KNITTED UNION FLAG HOT WATER BOTTLE         6   \n",
       "4    536365    84029E       RED WOOLLY HOTTIE WHITE HEART.         6   \n",
       "\n",
       "          InvoiceDate  UnitPrice  CustomerID         Country  \n",
       "0 2010-12-01 08:26:00       2.55     17850.0  United Kingdom  \n",
       "1 2010-12-01 08:26:00       3.39     17850.0  United Kingdom  \n",
       "2 2010-12-01 08:26:00       2.75     17850.0  United Kingdom  \n",
       "3 2010-12-01 08:26:00       3.39     17850.0  United Kingdom  \n",
       "4 2010-12-01 08:26:00       3.39     17850.0  United Kingdom  "
      ]
     },
     "execution_count": 33,
     "metadata": {},
     "output_type": "execute_result"
    }
   ],
   "source": [
    "retail_data = pd.read_excel(r'C:\\Users\\reddy\\Downloads\\customer_segmentation_analysis\\data\\raw\\Online_Retail.xlsx')\n",
    "# Basic check\n",
    "print(f\"Dataset shape: {retail_data.shape}\")\n",
    "retail_data.head()\n"
   ]
  },
  {
   "cell_type": "code",
   "execution_count": 34,
   "id": "a2cf5f56-0154-4419-9b37-262da216281f",
   "metadata": {},
   "outputs": [],
   "source": [
    "# Create directories if they don't exist\n",
    "os.makedirs(r\"C:\\Users\\reddy\\Downloads\\customer_segmentation_analysis\\process_documentation\\screenshots\", exist_ok=True)\n",
    "\n",
    "plt.figure(figsize=(12, 6))\n",
    "plt.table(cellText=retail_data.head().values, \n",
    "          colLabels=retail_data.columns, \n",
    "          cellLoc='center', \n",
    "          loc='center')\n",
    "plt.axis('off')\n",
    "\n",
    "plt.savefig(r\"C:\\Users\\reddy\\Downloads\\customer_segmentation_analysis\\process_documentation\\screenshots\\data_head.png\")\n",
    "plt.close()\n"
   ]
  },
  {
   "cell_type": "code",
   "execution_count": 35,
   "id": "1d0231da-24b3-45a9-8f3b-85379dee2896",
   "metadata": {},
   "outputs": [
    {
     "name": "stdout",
     "output_type": "stream",
     "text": [
      "Missing values in each column:\n",
      "InvoiceNo           0\n",
      "StockCode           0\n",
      "Description      1454\n",
      "Quantity            0\n",
      "InvoiceDate         0\n",
      "UnitPrice           0\n",
      "CustomerID     135080\n",
      "Country             0\n",
      "dtype: int64\n"
     ]
    }
   ],
   "source": [
    "print(\"Missing values in each column:\")\n",
    "missing_values = retail_data.isnull().sum()\n",
    "print(missing_values)\n",
    "\n",
    "plt.figure(figsize=(10, 6))\n",
    "sns.heatmap(retail_data.isnull(), yticklabels=False, cbar=False, cmap='viridis')\n",
    "plt.title('Missing Value Heatmap')\n",
    "plt.tight_layout()\n",
    "plt.savefig(r'C:\\Users\\reddy\\Downloads\\customer_segmentation_analysis\\process_documentation\\screenshots\\missing_values.png')\n",
    "plt.close()\n"
   ]
  },
  {
   "cell_type": "code",
   "execution_count": 13,
   "id": "494796b9-3b5b-4d8c-a64b-2c818eaaca82",
   "metadata": {},
   "outputs": [],
   "source": [
    "os.makedirs('C:/Users/reddy/Downloads/customer_segmentation_analysis/process_documentation/code_snippets', exist_ok=True)\n",
    "\n",
    "with open('C:/Users/reddy/Downloads/customer_segmentation_analysis/process_documentation/code_snippets/initial_data_stats.md', 'w') as f:\n",
    "    f.write(f\"# Initial Data Statistics\\n\\n\")\n",
    "    f.write(f\"- Total rows: {retail_data.shape[0]}\\n\")\n",
    "    f.write(f\"- Total columns: {retail_data.shape[1]}\\n\")\n",
    "    f.write(f\"- Date range: {retail_data['InvoiceDate'].min()} to {retail_data['InvoiceDate'].max()}\\n\")\n",
    "    f.write(f\"- Number of unique customers: {retail_data['CustomerID'].nunique()}\\n\")\n",
    "    f.write(f\"- Number of unique products: {retail_data['StockCode'].nunique()}\\n\")\n"
   ]
  },
  {
   "cell_type": "code",
   "execution_count": 39,
   "id": "6c013882-7b12-46b7-92f7-3915ef94a4bb",
   "metadata": {},
   "outputs": [],
   "source": [
    "count_before = len(retail_data)\n",
    "\n",
    "# Remove rows with missing CustomerID and negative Quantity\n",
    "retail_data = retail_data.dropna(subset=['CustomerID'])\n",
    "retail_data = retail_data[retail_data['Quantity'] > 0]\n",
    "\n",
    "count_after = len(retail_data)\n",
    "\n",
    "with open('C:/Users/reddy/Downloads/customer_segmentation_analysis/process_documentation/code_snippets/data_cleaning.md', 'w') as f:\n",
    "    f.write(f\"# Data Cleaning Steps\\n\\n\")\n",
    "    f.write(f\"1. Removed rows with missing CustomerID\\n\")\n",
    "    f.write(f\"2. Removed rows with negative Quantity (cancelled orders)\\n\\n\")\n",
    "    f.write(f\"- Records before cleaning: {count_before}\\n\")\n",
    "    f.write(f\"- Records after cleaning: {count_after}\\n\")\n",
    "    f.write(f\"- Records removed: {count_before - count_after} ({(count_before - count_after)/count_before*100:.2f}%)\\n\")\n"
   ]
  },
  {
   "cell_type": "code",
   "execution_count": 41,
   "id": "608f4442-ce7f-4946-9b25-c57ac6a78718",
   "metadata": {},
   "outputs": [
    {
     "name": "stdout",
     "output_type": "stream",
     "text": [
      "Latest purchase date: 2011-12-09 12:50:00\n"
     ]
    }
   ],
   "source": [
    "retail_data['InvoiceDate'] = pd.to_datetime(retail_data['InvoiceDate'])\n",
    "retail_data['TotalValue'] = retail_data['Quantity'] * retail_data['UnitPrice']\n",
    "max_date = retail_data['InvoiceDate'].max()\n",
    "print(f\"Latest purchase date: {max_date}\")\n"
   ]
  },
  {
   "cell_type": "code",
   "execution_count": 19,
   "id": "50f8e613-c83d-4e15-b402-1466169cb02d",
   "metadata": {},
   "outputs": [
    {
     "name": "stdout",
     "output_type": "stream",
     "text": [
      "['InvoiceNo', 'StockCode', 'Description', 'Quantity', 'InvoiceDate', 'UnitPrice', 'CustomerID', 'Country']\n"
     ]
    }
   ],
   "source": [
    "print(retail_data.columns.tolist())\n"
   ]
  },
  {
   "cell_type": "code",
   "execution_count": 43,
   "id": "3114dbf4-00e2-4a2d-9a05-57cea01517df",
   "metadata": {},
   "outputs": [],
   "source": [
    "retail_data.columns = retail_data.columns.str.strip()"
   ]
  },
  {
   "cell_type": "code",
   "execution_count": 45,
   "id": "f5b44191-1429-4730-94cc-25febcd9397d",
   "metadata": {},
   "outputs": [
    {
     "name": "stdout",
     "output_type": "stream",
     "text": [
      "\n",
      "RFM Metrics - Top 5 customers:\n"
     ]
    },
    {
     "data": {
      "text/html": [
       "<div>\n",
       "<style scoped>\n",
       "    .dataframe tbody tr th:only-of-type {\n",
       "        vertical-align: middle;\n",
       "    }\n",
       "\n",
       "    .dataframe tbody tr th {\n",
       "        vertical-align: top;\n",
       "    }\n",
       "\n",
       "    .dataframe thead th {\n",
       "        text-align: right;\n",
       "    }\n",
       "</style>\n",
       "<table border=\"1\" class=\"dataframe\">\n",
       "  <thead>\n",
       "    <tr style=\"text-align: right;\">\n",
       "      <th></th>\n",
       "      <th>Recency</th>\n",
       "      <th>Frequency</th>\n",
       "      <th>Monetary</th>\n",
       "    </tr>\n",
       "    <tr>\n",
       "      <th>CustomerID</th>\n",
       "      <th></th>\n",
       "      <th></th>\n",
       "      <th></th>\n",
       "    </tr>\n",
       "  </thead>\n",
       "  <tbody>\n",
       "    <tr>\n",
       "      <th>12346.0</th>\n",
       "      <td>325</td>\n",
       "      <td>1</td>\n",
       "      <td>77183.60</td>\n",
       "    </tr>\n",
       "    <tr>\n",
       "      <th>12347.0</th>\n",
       "      <td>1</td>\n",
       "      <td>7</td>\n",
       "      <td>4310.00</td>\n",
       "    </tr>\n",
       "    <tr>\n",
       "      <th>12348.0</th>\n",
       "      <td>74</td>\n",
       "      <td>4</td>\n",
       "      <td>1797.24</td>\n",
       "    </tr>\n",
       "    <tr>\n",
       "      <th>12349.0</th>\n",
       "      <td>18</td>\n",
       "      <td>1</td>\n",
       "      <td>1757.55</td>\n",
       "    </tr>\n",
       "    <tr>\n",
       "      <th>12350.0</th>\n",
       "      <td>309</td>\n",
       "      <td>1</td>\n",
       "      <td>334.40</td>\n",
       "    </tr>\n",
       "  </tbody>\n",
       "</table>\n",
       "</div>"
      ],
      "text/plain": [
       "            Recency  Frequency  Monetary\n",
       "CustomerID                              \n",
       "12346.0         325          1  77183.60\n",
       "12347.0           1          7   4310.00\n",
       "12348.0          74          4   1797.24\n",
       "12349.0          18          1   1757.55\n",
       "12350.0         309          1    334.40"
      ]
     },
     "execution_count": 45,
     "metadata": {},
     "output_type": "execute_result"
    }
   ],
   "source": [
    "rfm = retail_data.groupby('CustomerID').agg({\n",
    "    'InvoiceDate': lambda x: (max_date - x.max()).days,\n",
    "    'InvoiceNo': 'nunique',\n",
    "    'TotalValue': 'sum'\n",
    "})\n",
    "rfm.columns = ['Recency', 'Frequency', 'Monetary']\n",
    "print(\"\\nRFM Metrics - Top 5 customers:\")\n",
    "rfm.head()"
   ]
  },
  {
   "cell_type": "code",
   "execution_count": 47,
   "id": "4f65b9b5-eb57-4eee-b8b2-faef3cb6e806",
   "metadata": {},
   "outputs": [],
   "source": [
    "with open('C:/Users/reddy/Downloads/customer_segmentation_analysis/process_documentation/code_snippets/rfm_calculation.md', 'w') as f:\n",
    "    f.write(f\"# RFM Metrics Calculation\\n\\n\")\n",
    "    f.write(f\"## Definition:\\n\")\n",
    "    f.write(f\"- **Recency**: Days since customer's last purchase (from {max_date})\\n\")\n",
    "    f.write(f\"- **Frequency**: Number of unique invoices\\n\")\n",
    "    f.write(f\"- **Monetary**: Total money spent\\n\\n\")\n",
    "    f.write(f\"## Sample:\\n```\\n{rfm.head().to_string()}\\n```\\n\")\n"
   ]
  },
  {
   "cell_type": "code",
   "execution_count": 49,
   "id": "e071b103-5445-422c-91c5-6d56a1e5e959",
   "metadata": {},
   "outputs": [],
   "source": [
    "rfm['AvgPurchaseValue'] = rfm['Monetary'] / rfm['Frequency']\n",
    "\n",
    "order_values = retail_data.groupby(['CustomerID', 'InvoiceNo'])['TotalValue'].sum().reset_index()\n",
    "customer_std = order_values.groupby('CustomerID')['TotalValue'].std().fillna(0)\n",
    "rfm['PurchaseVariability'] = customer_std\n"
   ]
  },
  {
   "cell_type": "code",
   "execution_count": 51,
   "id": "2fdf7267-2ad3-4105-bbb8-b3a05dcdbf1d",
   "metadata": {},
   "outputs": [],
   "source": [
    "with open('C:/Users/reddy/Downloads/customer_segmentation_analysis/process_documentation/code_snippets/feature_engineering.md', 'w') as f:\n",
    "    f.write(f\"# Additional Feature Engineering\\n\\n\")\n",
    "    f.write(f\"1. **Average Purchase Value**: Monetary / Frequency\\n\")\n",
    "    f.write(f\"2. **Purchase Variability**: Std dev of transaction values\\n\\n\")\n",
    "    f.write(f\"## Sample:\\n```\\n{rfm[['AvgPurchaseValue', 'PurchaseVariability']].head().to_string()}\\n```\\n\")\n"
   ]
  },
  {
   "cell_type": "code",
   "execution_count": 53,
   "id": "7954b83c-e9f0-4134-b8bc-72caface7ff6",
   "metadata": {},
   "outputs": [],
   "source": [
    "plt.figure(figsize=(18, 6))\n",
    "\n",
    "plt.subplot(1, 3, 1)\n",
    "sns.histplot(rfm['Recency'], kde=True)\n",
    "plt.title('Distribution of Recency')\n",
    "\n",
    "plt.subplot(1, 3, 2)\n",
    "sns.histplot(rfm['Frequency'], kde=True)\n",
    "plt.title('Distribution of Frequency')\n",
    "\n",
    "plt.subplot(1, 3, 3)\n",
    "sns.histplot(rfm['Monetary'], kde=True)\n",
    "plt.title('Distribution of Monetary')\n",
    "\n",
    "plt.tight_layout()\n",
    "plt.savefig('C:/Users/reddy/Downloads/customer_segmentation_analysis/process_documentation/analysis_outputs/rfm_distributions.png')\n",
    "plt.savefig('C:/Users/reddy/Downloads/customer_segmentation_analysis/visualizations/rfm_distributions.png')\n",
    "plt.close()\n"
   ]
  },
  {
   "cell_type": "code",
   "execution_count": 55,
   "id": "b86bbaf1-23b6-44e5-818e-9bcea843ae4c",
   "metadata": {},
   "outputs": [],
   "source": [
    "plt.figure(figsize=(10, 8))\n",
    "sns.heatmap(rfm.corr(), annot=True, cmap='coolwarm', linewidths=0.5)\n",
    "plt.title('Correlation Between RFM Features')\n",
    "plt.savefig('C:/Users/reddy/Downloads/customer_segmentation_analysis/process_documentation/analysis_outputs/feature_correlations.png')\n",
    "plt.savefig('C:/Users/reddy/Downloads/customer_segmentation_analysis/visualizations/rfm_correlation.png')\n",
    "plt.close()\n"
   ]
  },
  {
   "cell_type": "code",
   "execution_count": 59,
   "id": "56ff2fc3-1cf6-474c-853d-6ff0fca7f9d6",
   "metadata": {},
   "outputs": [],
   "source": [
    "os.makedirs('C:/Users/reddy/Downloads/customer_segmentation_analysis/data/processed', exist_ok=True)\n",
    "rfm.reset_index().to_csv('C:/Users/reddy/Downloads/customer_segmentation_analysis/data/processed/rfm_data_for_tableau.csv', index=False)\n"
   ]
  },
  {
   "cell_type": "code",
   "execution_count": 61,
   "id": "34cf9f98-5915-4a5d-b7fc-7771763afeec",
   "metadata": {},
   "outputs": [],
   "source": [
    "rfm_scaled = rfm.copy()\n",
    "scaler = StandardScaler()\n",
    "rfm_scaled[rfm.columns] = scaler.fit_transform(rfm[rfm.columns])\n",
    "\n",
    "rfm_scaled.reset_index().to_csv('C:/Users/reddy/Downloads/customer_segmentation_analysis/data/processed/rfm_scaled_data.csv', index=False)\n"
   ]
  },
  {
   "cell_type": "code",
   "execution_count": null,
   "id": "a5b836a0-56c5-4636-8239-15192179ca7a",
   "metadata": {},
   "outputs": [],
   "source": []
  }
 ],
 "metadata": {
  "kernelspec": {
   "display_name": "Python [conda env:base] *",
   "language": "python",
   "name": "conda-base-py"
  },
  "language_info": {
   "codemirror_mode": {
    "name": "ipython",
    "version": 3
   },
   "file_extension": ".py",
   "mimetype": "text/x-python",
   "name": "python",
   "nbconvert_exporter": "python",
   "pygments_lexer": "ipython3",
   "version": "3.12.7"
  }
 },
 "nbformat": 4,
 "nbformat_minor": 5
}
